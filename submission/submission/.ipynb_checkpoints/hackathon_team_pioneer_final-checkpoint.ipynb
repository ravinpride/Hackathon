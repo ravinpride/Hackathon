{
 "cells": [
  {
   "cell_type": "markdown",
   "metadata": {
    "id": "z78eeWufnJe2"
   },
   "source": [
    "# Problem Statement\n",
    "\n",
    "User data for past one year on various parameters are provided. We need to identify whether the user will make a purchase or not.\n",
    "So we need to make a model that will be able to predict, based on the features identified, whether the user will make a purchase or not. \n",
    "Also we need to identify the features that most significantly affect the use choice and highlight those. \n"
   ]
  },
  {
   "cell_type": "markdown",
   "metadata": {
    "id": "XUki4j6b_Npb"
   },
   "source": [
    "## different column meaning\n",
    "session_id: unique value -> will not be required\n",
    "\n",
    "administrative: administrative page type visited by the user (0 means did not visit during that session)\n",
    "\n",
    "administrative_duration: duration in seconds per visit for administrative page\n",
    "\n",
    "informational : type of page (0 means did not visit)\n",
    "\n",
    "infortmational_duration : time spent in informational page\n",
    "\n",
    "productrelated: page ID visited for different product (this can be useful by taking value count and then seeing which pages people are visiting more often)\n",
    "\n",
    "productrelated_duration: time spent in each product type page (This will be useful by combining total time spent or taking average time spent per different product page )\n",
    "\n",
    "bounce_rate: percentage of visitors who enter the site from that page and then leave (\"bounce\") without triggering any other requests. that may indicate which product people are least interested in i.e. they did not do anything else after visiting that page\n",
    "\n",
    "exit_rate: as per all page views to the page, the percentage that were the last in the session. \n",
    "\n",
    "page_value: average value for a web page that a user visited before completing an e-commerce transaction\n",
    "\n",
    "special_day: indicates closeness of the site visiting time to a specific special day in which the sessions are more likely to be finalized\n",
    "\n",
    "\n",
    "\n",
    "\n"
   ]
  },
  {
   "cell_type": "code",
   "execution_count": null,
   "metadata": {
    "id": "vv39rpISW0Uf"
   },
   "outputs": [],
   "source": []
  },
  {
   "cell_type": "code",
   "execution_count": 626,
   "metadata": {
    "id": "clNJKDmRbsP9"
   },
   "outputs": [],
   "source": [
    "import warnings\n",
    "warnings.filterwarnings(\"ignore\")\n",
    "#imports\n",
    "import pandas as pd\n",
    "import numpy as np\n",
    "\n",
    "#libraries for data visualization\n",
    "from matplotlib import pyplot as plt\n",
    "import seaborn as sns\n",
    "\n",
    "#Libraries for data preprocessing\n",
    "from sklearn.preprocessing import LabelEncoder\n",
    "from sklearn.preprocessing import StandardScaler\n",
    "\n",
    "#libraries for model development\n",
    "from sklearn.model_selection import train_test_split,GridSearchCV\n",
    "from sklearn.linear_model import LinearRegression,LogisticRegression,LogisticRegressionCV\n",
    "from sklearn.tree import DecisionTreeClassifier\n",
    "from sklearn.svm import SVC\n",
    "#libaries for evaluation\n",
    "from sklearn import metrics"
   ]
  },
  {
   "cell_type": "code",
   "execution_count": 627,
   "metadata": {
    "id": "N_27ipQWpNwq"
   },
   "outputs": [],
   "source": [
    "#!wget https://raw.githubusercontent.com/saumya221/image_viewer_pyqt5/main/ecommerce_train.csv"
   ]
  },
  {
   "cell_type": "markdown",
   "metadata": {
    "id": "i8CbZHSmmEhI"
   },
   "source": [
    "# Load the dataset"
   ]
  },
  {
   "cell_type": "code",
   "execution_count": 628,
   "metadata": {
    "id": "xbPsnX51mObk"
   },
   "outputs": [],
   "source": [
    "data=pd.read_csv(\"ecommerce_train.csv\")"
   ]
  },
  {
   "cell_type": "code",
   "execution_count": 629,
   "metadata": {
    "colab": {
     "base_uri": "https://localhost:8080/"
    },
    "id": "ZDq8jhWDmX5K",
    "outputId": "104badf5-4f6a-418b-b802-36ec7dab5195"
   },
   "outputs": [
    {
     "name": "stdout",
     "output_type": "stream",
     "text": [
      "(40000, 19)\n"
     ]
    }
   ],
   "source": [
    "# print the shape of the data\n",
    "print(data.shape)"
   ]
  },
  {
   "cell_type": "code",
   "execution_count": 630,
   "metadata": {
    "colab": {
     "base_uri": "https://localhost:8080/"
    },
    "id": "ZbRRT-3ambyn",
    "outputId": "4ee810f1-0819-412b-a760-c5e6364b5f0c"
   },
   "outputs": [
    {
     "name": "stdout",
     "output_type": "stream",
     "text": [
      "          session_id  administrative  administrative_duration  informational  \\\n",
      "count   40000.000000    40000.000000             40000.000000   40000.000000   \n",
      "mean   311469.372075        2.544150                89.794383       0.555225   \n",
      "std    108498.432497        3.667252               182.964645       1.332627   \n",
      "min    123460.000000        0.000000                 0.000000       0.000000   \n",
      "25%    217950.000000        0.000000                 0.000000       0.000000   \n",
      "50%    311194.500000        1.000000                11.200000       0.000000   \n",
      "75%    404680.500000        4.000000               110.154167       0.000000   \n",
      "max    499982.000000       22.000000              1946.000000      11.000000   \n",
      "\n",
      "       informational_duration  productrelated  productrelated_duration  \\\n",
      "count            40000.000000    40000.000000             40000.000000   \n",
      "mean                40.977236       34.026975              1148.105672   \n",
      "std                153.114387       46.798102              1666.181462   \n",
      "min                  0.000000        0.000000                 0.000000   \n",
      "25%                  0.000000        7.000000               183.883333   \n",
      "50%                  0.000000       19.000000               560.075000   \n",
      "75%                  0.000000       41.000000              1420.536667   \n",
      "max               1767.666667      440.000000             18504.126210   \n",
      "\n",
      "        bouncerates     exitrates    pagevalues    specialday        region  \\\n",
      "count  40000.000000  40000.000000  40000.000000  40000.000000  40000.000000   \n",
      "mean       0.021969      0.042307      6.494963      0.063553      3.241975   \n",
      "std        0.048533      0.048633     17.710646      0.199463      2.423586   \n",
      "min        0.000000      0.000000      0.000000      0.000000      1.000000   \n",
      "25%        0.000000      0.013389      0.000000      0.000000      1.000000   \n",
      "50%        0.003304      0.025000      0.000000      0.000000      3.000000   \n",
      "75%        0.016667      0.050000      0.000000      0.000000      4.000000   \n",
      "max        0.200000      0.200000    226.677702      1.000000      9.000000   \n",
      "\n",
      "            revenue  \n",
      "count  40000.000000  \n",
      "mean       0.158275  \n",
      "std        0.365003  \n",
      "min        0.000000  \n",
      "25%        0.000000  \n",
      "50%        0.000000  \n",
      "75%        0.000000  \n",
      "max        1.000000  \n"
     ]
    }
   ],
   "source": [
    "#print the numerical information on the dataset\n",
    "print(data.describe())"
   ]
  },
  {
   "cell_type": "code",
   "execution_count": 631,
   "metadata": {
    "colab": {
     "base_uri": "https://localhost:8080/"
    },
    "id": "8inpjRTHmpOp",
    "outputId": "086e93b3-c414-4913-cfd9-810818307838"
   },
   "outputs": [
    {
     "data": {
      "text/plain": [
       "session_id                 0\n",
       "administrative             0\n",
       "administrative_duration    0\n",
       "informational              0\n",
       "informational_duration     0\n",
       "productrelated             0\n",
       "productrelated_duration    0\n",
       "bouncerates                0\n",
       "exitrates                  0\n",
       "pagevalues                 0\n",
       "specialday                 0\n",
       "month                      0\n",
       "operatingsystems           0\n",
       "browser                    0\n",
       "region                     0\n",
       "traffictype                0\n",
       "visitortype                0\n",
       "weekend                    0\n",
       "revenue                    0\n",
       "dtype: int64"
      ]
     },
     "execution_count": 631,
     "metadata": {},
     "output_type": "execute_result"
    }
   ],
   "source": [
    "data.isnull().sum()"
   ]
  },
  {
   "cell_type": "code",
   "execution_count": 632,
   "metadata": {
    "colab": {
     "base_uri": "https://localhost:8080/"
    },
    "id": "C8msWMyXmg7Z",
    "outputId": "fa9ecfec-a1af-4acc-cd8e-972407a1a794"
   },
   "outputs": [
    {
     "name": "stdout",
     "output_type": "stream",
     "text": [
      "<class 'pandas.core.frame.DataFrame'>\n",
      "RangeIndex: 40000 entries, 0 to 39999\n",
      "Data columns (total 19 columns):\n",
      " #   Column                   Non-Null Count  Dtype  \n",
      "---  ------                   --------------  -----  \n",
      " 0   session_id               40000 non-null  int64  \n",
      " 1   administrative           40000 non-null  int64  \n",
      " 2   administrative_duration  40000 non-null  float64\n",
      " 3   informational            40000 non-null  int64  \n",
      " 4   informational_duration   40000 non-null  float64\n",
      " 5   productrelated           40000 non-null  int64  \n",
      " 6   productrelated_duration  40000 non-null  float64\n",
      " 7   bouncerates              40000 non-null  float64\n",
      " 8   exitrates                40000 non-null  float64\n",
      " 9   pagevalues               40000 non-null  float64\n",
      " 10  specialday               40000 non-null  float64\n",
      " 11  month                    40000 non-null  object \n",
      " 12  operatingsystems         40000 non-null  object \n",
      " 13  browser                  40000 non-null  object \n",
      " 14  region                   40000 non-null  int64  \n",
      " 15  traffictype              40000 non-null  object \n",
      " 16  visitortype              40000 non-null  object \n",
      " 17  weekend                  40000 non-null  bool   \n",
      " 18  revenue                  40000 non-null  int64  \n",
      "dtypes: bool(1), float64(7), int64(6), object(5)\n",
      "memory usage: 5.5+ MB\n",
      "None\n"
     ]
    }
   ],
   "source": [
    "#print info and type of the dataset and also the non-null count\n",
    "print(data.info())"
   ]
  },
  {
   "cell_type": "markdown",
   "metadata": {
    "id": "e_PDF-fdmtPx"
   },
   "source": [
    "So as can be seen , we have no missing data. We have total 40000 rows of data and non-null count for all the features is 40000"
   ]
  },
  {
   "cell_type": "code",
   "execution_count": 633,
   "metadata": {
    "id": "WJ5UYt7wW0Uk"
   },
   "outputs": [],
   "source": [
    "# session id can be dropped as it is a unique identifier and has no correlation with the dataset\n",
    "data.drop('session_id',axis=1,inplace=True)"
   ]
  },
  {
   "cell_type": "code",
   "execution_count": 634,
   "metadata": {
    "colab": {
     "base_uri": "https://localhost:8080/"
    },
    "id": "oZT6UY-RW0Uk",
    "outputId": "76242dac-58fe-4a12-b400-d1eb32d14079"
   },
   "outputs": [
    {
     "name": "stdout",
     "output_type": "stream",
     "text": [
      "<class 'pandas.core.frame.DataFrame'>\n",
      "RangeIndex: 40000 entries, 0 to 39999\n",
      "Data columns (total 18 columns):\n",
      " #   Column                   Non-Null Count  Dtype  \n",
      "---  ------                   --------------  -----  \n",
      " 0   administrative           40000 non-null  int64  \n",
      " 1   administrative_duration  40000 non-null  float64\n",
      " 2   informational            40000 non-null  int64  \n",
      " 3   informational_duration   40000 non-null  float64\n",
      " 4   productrelated           40000 non-null  int64  \n",
      " 5   productrelated_duration  40000 non-null  float64\n",
      " 6   bouncerates              40000 non-null  float64\n",
      " 7   exitrates                40000 non-null  float64\n",
      " 8   pagevalues               40000 non-null  float64\n",
      " 9   specialday               40000 non-null  float64\n",
      " 10  month                    40000 non-null  object \n",
      " 11  operatingsystems         40000 non-null  object \n",
      " 12  browser                  40000 non-null  object \n",
      " 13  region                   40000 non-null  int64  \n",
      " 14  traffictype              40000 non-null  object \n",
      " 15  visitortype              40000 non-null  object \n",
      " 16  weekend                  40000 non-null  bool   \n",
      " 17  revenue                  40000 non-null  int64  \n",
      "dtypes: bool(1), float64(7), int64(5), object(5)\n",
      "memory usage: 5.2+ MB\n"
     ]
    }
   ],
   "source": [
    "data.info()"
   ]
  },
  {
   "cell_type": "markdown",
   "metadata": {
    "id": "FZH2Q4gtW0Ul"
   },
   "source": [
    "## drop the data that has 0 page view across all three different types of pages i.e. administrative, informational and productrelated"
   ]
  },
  {
   "cell_type": "code",
   "execution_count": 635,
   "metadata": {
    "id": "OTE4tOEhW0Ul"
   },
   "outputs": [],
   "source": [
    "# data.drop(data[(data['informational']==0) & (data['administrative']==0) & (data['productrelated']==0)].index,inplace=True)"
   ]
  },
  {
   "cell_type": "code",
   "execution_count": 636,
   "metadata": {
    "id": "Tps0bjFJW0Ul"
   },
   "outputs": [],
   "source": [
    "# data.drop(data[(data['informational']==0) & (data['informational_duration']>0)].index,inplace=True)"
   ]
  },
  {
   "cell_type": "code",
   "execution_count": 637,
   "metadata": {
    "id": "6H4lqm4oW0Um"
   },
   "outputs": [],
   "source": [
    "# data.drop(data[(data['productrelated']==0) & (data['productrelated_duration']>0)].index,inplace=True)"
   ]
  },
  {
   "cell_type": "code",
   "execution_count": 638,
   "metadata": {
    "id": "xGKKBlafW0Um"
   },
   "outputs": [],
   "source": [
    "# data.drop(data[(data['administrative']==0) & (data['administrative_duration']>0)].index,inplace=True)"
   ]
  },
  {
   "cell_type": "code",
   "execution_count": 639,
   "metadata": {},
   "outputs": [],
   "source": [
    "data.loc[(data['informational']==0) & (data['informational_duration']>0),'informational']=np.nan\n",
    "\n",
    "data.loc[(data['administrative']==0) & (data['administrative_duration']>0),'administrative']=np.nan\n",
    "\n",
    "data.loc[(data['productrelated']==0) & (data['productrelated_duration']>0),'productrelated']=np.nan\n",
    "\n",
    "\n"
   ]
  },
  {
   "cell_type": "code",
   "execution_count": 640,
   "metadata": {
    "colab": {
     "base_uri": "https://localhost:8080/"
    },
    "id": "RgAyrxCbW0Um",
    "outputId": "9eaa9f86-7ada-4543-c2f2-d5f891e401bc",
    "scrolled": true
   },
   "outputs": [
    {
     "name": "stdout",
     "output_type": "stream",
     "text": [
      "<class 'pandas.core.frame.DataFrame'>\n",
      "RangeIndex: 40000 entries, 0 to 39999\n",
      "Data columns (total 18 columns):\n",
      " #   Column                   Non-Null Count  Dtype  \n",
      "---  ------                   --------------  -----  \n",
      " 0   administrative           39971 non-null  float64\n",
      " 1   administrative_duration  40000 non-null  float64\n",
      " 2   informational            39970 non-null  float64\n",
      " 3   informational_duration   40000 non-null  float64\n",
      " 4   productrelated           39926 non-null  float64\n",
      " 5   productrelated_duration  40000 non-null  float64\n",
      " 6   bouncerates              40000 non-null  float64\n",
      " 7   exitrates                40000 non-null  float64\n",
      " 8   pagevalues               40000 non-null  float64\n",
      " 9   specialday               40000 non-null  float64\n",
      " 10  month                    40000 non-null  object \n",
      " 11  operatingsystems         40000 non-null  object \n",
      " 12  browser                  40000 non-null  object \n",
      " 13  region                   40000 non-null  int64  \n",
      " 14  traffictype              40000 non-null  object \n",
      " 15  visitortype              40000 non-null  object \n",
      " 16  weekend                  40000 non-null  bool   \n",
      " 17  revenue                  40000 non-null  int64  \n",
      "dtypes: bool(1), float64(10), int64(2), object(5)\n",
      "memory usage: 5.2+ MB\n"
     ]
    }
   ],
   "source": [
    "data.info()"
   ]
  },
  {
   "cell_type": "markdown",
   "metadata": {
    "id": "VXQKbQljy9Pt",
    "outputId": "1c8c591c-4447-4adf-ab79-bb8108242f7a"
   },
   "source": [
    "## columns that need data type conversion \n",
    "\n",
    " 1) month\n",
    " 2) operating systems\n",
    " 3) browser\n",
    " 4) traffic type\n",
    " 5) visitor type\n",
    " 6) weekend"
   ]
  },
  {
   "cell_type": "code",
   "execution_count": 641,
   "metadata": {
    "colab": {
     "base_uri": "https://localhost:8080/"
    },
    "id": "I1jdldkEW0Um",
    "outputId": "0755c715-adf7-44e1-a6ef-e7d68cbf24c4"
   },
   "outputs": [
    {
     "data": {
      "text/plain": [
       "array(['Nov', 'Dec', 'May', 'June', 'Mar', 'Sep', 'Aug', 'Oct', 'Jul',\n",
       "       'Feb'], dtype=object)"
      ]
     },
     "execution_count": 641,
     "metadata": {},
     "output_type": "execute_result"
    }
   ],
   "source": [
    "data['month'].unique()"
   ]
  },
  {
   "cell_type": "code",
   "execution_count": 642,
   "metadata": {
    "colab": {
     "base_uri": "https://localhost:8080/",
     "height": 567
    },
    "id": "cEk_lxc2W0Un",
    "outputId": "86caceb0-3e4f-4345-a460-d67cdf0ffdb0"
   },
   "outputs": [
    {
     "data": {
      "text/plain": [
       "<Figure size 720x360 with 0 Axes>"
      ]
     },
     "execution_count": 642,
     "metadata": {},
     "output_type": "execute_result"
    },
    {
     "data": {
      "image/png": "[encoded data removed]",
      "text/plain": [
       "<Figure size 432x288 with 1 Axes>"
      ]
     },
     "metadata": {
      "needs_background": "light"
     },
     "output_type": "display_data"
    },
    {
     "data": {
      "text/plain": [
       "<Figure size 720x360 with 0 Axes>"
      ]
     },
     "metadata": {},
     "output_type": "display_data"
    }
   ],
   "source": [
    "chart = sns.countplot(data['month'], order = data['month'].value_counts().index)\n",
    "chart.set_xticklabels(chart.get_xticklabels(),rotation=70)\n",
    "plt.figure(figsize=(10,5))"
   ]
  },
  {
   "cell_type": "markdown",
   "metadata": {
    "id": "73p2SZupW0Un"
   },
   "source": [
    "## as seen from the above plot, maximum sale happens in month of may and nov"
   ]
  },
  {
   "cell_type": "code",
   "execution_count": 643,
   "metadata": {
    "colab": {
     "base_uri": "https://localhost:8080/",
     "height": 551
    },
    "id": "AyV_5DpmW0Un",
    "outputId": "7c7b0959-e77b-40bc-d25a-600d902cc611"
   },
   "outputs": [
    {
     "data": {
      "text/plain": [
       "<Figure size 720x360 with 0 Axes>"
      ]
     },
     "execution_count": 643,
     "metadata": {},
     "output_type": "execute_result"
    },
    {
     "data": {
      "image/png": "[encoded data removed]",
      "text/plain": [
       "<Figure size 432x288 with 1 Axes>"
      ]
     },
     "metadata": {
      "needs_background": "light"
     },
     "output_type": "display_data"
    },
    {
     "data": {
      "text/plain": [
       "<Figure size 720x360 with 0 Axes>"
      ]
     },
     "metadata": {},
     "output_type": "display_data"
    }
   ],
   "source": [
    "chart = sns.countplot(data['operatingsystems'], order = data['operatingsystems'].value_counts().index)\n",
    "chart.set_xticklabels(chart.get_xticklabels())\n",
    "plt.figure(figsize=(10,5))"
   ]
  },
  {
   "cell_type": "code",
   "execution_count": 644,
   "metadata": {
    "colab": {
     "base_uri": "https://localhost:8080/"
    },
    "id": "YAQu4QWQW0Uo",
    "outputId": "07004a3a-5761-4661-dfd2-7a85546a1094"
   },
   "outputs": [
    {
     "data": {
      "text/plain": [
       "2    21638\n",
       "3     8439\n",
       "1     8104\n",
       "4     1498\n",
       "8      236\n",
       "*       85\n",
       "Name: operatingsystems, dtype: int64"
      ]
     },
     "execution_count": 644,
     "metadata": {},
     "output_type": "execute_result"
    }
   ],
   "source": [
    "data['operatingsystems'].value_counts()"
   ]
  },
  {
   "cell_type": "markdown",
   "metadata": {
    "id": "4-LrFE20W0Uo"
   },
   "source": [
    "## as operating systems marked with * are very low in percentage, we will club all of them together in single index of 0"
   ]
  },
  {
   "cell_type": "code",
   "execution_count": 645,
   "metadata": {
    "colab": {
     "base_uri": "https://localhost:8080/",
     "height": 551
    },
    "id": "xpzicbRgW0Uo",
    "outputId": "49e5ee2c-d5a7-453e-a7e9-2f86f88c0e78"
   },
   "outputs": [
    {
     "data": {
      "text/plain": [
       "<Figure size 720x360 with 0 Axes>"
      ]
     },
     "execution_count": 645,
     "metadata": {},
     "output_type": "execute_result"
    },
    {
     "data": {
      "image/png": "[encoded data removed]",
      "text/plain": [
       "<Figure size 432x288 with 1 Axes>"
      ]
     },
     "metadata": {
      "needs_background": "light"
     },
     "output_type": "display_data"
    },
    {
     "data": {
      "text/plain": [
       "<Figure size 720x360 with 0 Axes>"
      ]
     },
     "metadata": {},
     "output_type": "display_data"
    }
   ],
   "source": [
    "data[\"operatingsystems\"] = data[\"operatingsystems\"].replace(\"*\",data[\"operatingsystems\"].mode()[0])\n",
    "data[\"browser\"] = data[\"browser\"].replace(\"*\",data[\"browser\"].mode()[0])\n",
    "data[\"traffictype\"] = data[\"traffictype\"].replace(\"*\",data[\"traffictype\"].mode()[0])\n",
    "chart = sns.countplot(data['operatingsystems'], order = data['operatingsystems'].value_counts().index)\n",
    "chart.set_xticklabels(chart.get_xticklabels())\n",
    "plt.figure(figsize=(10,5))\n",
    "#data['operatingsystems']=data['operatingsystems'].astype('int'). # smohanty_temp: will try with pandas get_dummies and see "
   ]
  },
  {
   "cell_type": "code",
   "execution_count": 646,
   "metadata": {
    "colab": {
     "base_uri": "https://localhost:8080/",
     "height": 551
    },
    "id": "aoRx-dDSW0Up",
    "outputId": "658227cb-9b84-4aa4-dadc-986a4ddfd805"
   },
   "outputs": [
    {
     "data": {
      "text/plain": [
       "<Figure size 720x360 with 0 Axes>"
      ]
     },
     "execution_count": 646,
     "metadata": {},
     "output_type": "execute_result"
    },
    {
     "data": {
      "image/png": "[encoded data removed]",
      "text/plain": [
       "<Figure size 432x288 with 1 Axes>"
      ]
     },
     "metadata": {
      "needs_background": "light"
     },
     "output_type": "display_data"
    },
    {
     "data": {
      "text/plain": [
       "<Figure size 720x360 with 0 Axes>"
      ]
     },
     "metadata": {},
     "output_type": "display_data"
    }
   ],
   "source": [
    "chart = sns.countplot(data['browser'], order = data['browser'].value_counts().index)\n",
    "chart.set_xticklabels(chart.get_xticklabels())\n",
    "plt.figure(figsize=(10,5))"
   ]
  },
  {
   "cell_type": "markdown",
   "metadata": {
    "id": "ElL8CN0vW0Up"
   },
   "source": [
    "## as browsers marked with * are very low in percentage, we will club all of them together in single index of 0"
   ]
  },
  {
   "cell_type": "code",
   "execution_count": 647,
   "metadata": {
    "colab": {
     "base_uri": "https://localhost:8080/",
     "height": 551
    },
    "id": "yLk3fi0iW0Up",
    "outputId": "305e36b6-fcf8-4218-a7ce-a7825dad1508"
   },
   "outputs": [
    {
     "data": {
      "text/plain": [
       "<Figure size 720x360 with 0 Axes>"
      ]
     },
     "execution_count": 647,
     "metadata": {},
     "output_type": "execute_result"
    },
    {
     "data": {
      "image/png": "[encoded data removed]",
      "text/plain": [
       "<Figure size 432x288 with 1 Axes>"
      ]
     },
     "metadata": {
      "needs_background": "light"
     },
     "output_type": "display_data"
    },
    {
     "data": {
      "text/plain": [
       "<Figure size 720x360 with 0 Axes>"
      ]
     },
     "metadata": {},
     "output_type": "display_data"
    }
   ],
   "source": [
    "# data['browser']=data['browser'].replace('*','0')\n",
    "chart = sns.countplot(data['browser'], order = data['browser'].value_counts().index)\n",
    "chart.set_xticklabels(chart.get_xticklabels())\n",
    "plt.figure(figsize=(10,5))\n",
    "#data['browser']=data['browser'].astype('int'). # smohanty_temp"
   ]
  },
  {
   "cell_type": "code",
   "execution_count": 648,
   "metadata": {
    "colab": {
     "base_uri": "https://localhost:8080/",
     "height": 551
    },
    "id": "Kto8FcXqW0Up",
    "outputId": "72e630ba-4817-49ee-8f75-86200743856f"
   },
   "outputs": [
    {
     "data": {
      "text/plain": [
       "<Figure size 720x360 with 0 Axes>"
      ]
     },
     "execution_count": 648,
     "metadata": {},
     "output_type": "execute_result"
    },
    {
     "data": {
      "image/png": "[encoded data removed]",
      "text/plain": [
       "<Figure size 432x288 with 1 Axes>"
      ]
     },
     "metadata": {
      "needs_background": "light"
     },
     "output_type": "display_data"
    },
    {
     "data": {
      "text/plain": [
       "<Figure size 720x360 with 0 Axes>"
      ]
     },
     "metadata": {},
     "output_type": "display_data"
    }
   ],
   "source": [
    "chart = sns.countplot(data['traffictype'], order = data['traffictype'].value_counts().index)\n",
    "chart.set_xticklabels(chart.get_xticklabels())\n",
    "plt.figure(figsize=(10,5))"
   ]
  },
  {
   "cell_type": "markdown",
   "metadata": {
    "id": "8n6OdjzMW0Uq"
   },
   "source": [
    "## as traffic type marked with * are very low in percentage, we will club all of them together in single index of 0"
   ]
  },
  {
   "cell_type": "code",
   "execution_count": 649,
   "metadata": {
    "colab": {
     "base_uri": "https://localhost:8080/",
     "height": 551
    },
    "id": "vyHYhxJxW0Uq",
    "outputId": "7b460eda-0dc6-403d-8dfa-baf258c2aac4"
   },
   "outputs": [
    {
     "data": {
      "text/plain": [
       "<Figure size 720x360 with 0 Axes>"
      ]
     },
     "execution_count": 649,
     "metadata": {},
     "output_type": "execute_result"
    },
    {
     "data": {
      "image/png": "[encoded data removed]",
      "text/plain": [
       "<Figure size 432x288 with 1 Axes>"
      ]
     },
     "metadata": {
      "needs_background": "light"
     },
     "output_type": "display_data"
    },
    {
     "data": {
      "text/plain": [
       "<Figure size 720x360 with 0 Axes>"
      ]
     },
     "metadata": {},
     "output_type": "display_data"
    }
   ],
   "source": [
    "# data['traffictype']=data['traffictype'].replace('*','0')\n",
    "chart = sns.countplot(data['traffictype'], order = data['traffictype'].value_counts().index)\n",
    "chart.set_xticklabels(chart.get_xticklabels())\n",
    "plt.figure(figsize=(10,5))\n",
    "#data['traffictype']=data['traffictype'].astype('int') # smohanty_temp"
   ]
  },
  {
   "cell_type": "code",
   "execution_count": 650,
   "metadata": {
    "colab": {
     "base_uri": "https://localhost:8080/",
     "height": 552
    },
    "id": "tIdDWDE9W0Ur",
    "outputId": "0452007b-8d37-456c-d625-6b11b05ef730"
   },
   "outputs": [
    {
     "data": {
      "text/plain": [
       "<Figure size 720x360 with 0 Axes>"
      ]
     },
     "execution_count": 650,
     "metadata": {},
     "output_type": "execute_result"
    },
    {
     "data": {
      "image/png": "[encoded data removed]",
      "text/plain": [
       "<Figure size 432x288 with 1 Axes>"
      ]
     },
     "metadata": {
      "needs_background": "light"
     },
     "output_type": "display_data"
    },
    {
     "data": {
      "text/plain": [
       "<Figure size 720x360 with 0 Axes>"
      ]
     },
     "metadata": {},
     "output_type": "display_data"
    }
   ],
   "source": [
    "chart = sns.countplot(data['visitortype'], order = data['visitortype'].value_counts().index)\n",
    "chart.set_xticklabels(chart.get_xticklabels())\n",
    "plt.figure(figsize=(10,5))"
   ]
  },
  {
   "cell_type": "code",
   "execution_count": 651,
   "metadata": {
    "id": "Ks0DZu5VW0Ur"
   },
   "outputs": [],
   "source": [
    "# convert bool type for weekend to int\n",
    "data['weekend']=data['weekend'].astype('int')"
   ]
  },
  {
   "cell_type": "markdown",
   "metadata": {
    "id": "IxiM96pBW0Us"
   },
   "source": [
    "### As can be seen from above plot, returning visitors are of much higher count as compared to new visitors and other visitors"
   ]
  },
  {
   "cell_type": "markdown",
   "metadata": {
    "id": "8YOf9WHLW0Us"
   },
   "source": [
    "# EDA"
   ]
  },
  {
   "cell_type": "markdown",
   "metadata": {
    "id": "-UjLLa3WW0Us"
   },
   "source": [
    "### Correlation between different features"
   ]
  },
  {
   "cell_type": "code",
   "execution_count": 652,
   "metadata": {
    "colab": {
     "base_uri": "https://localhost:8080/",
     "height": 516
    },
    "id": "-WSXRlU_W0Us",
    "outputId": "db947c59-fb64-40ba-a8f7-f8173217b890"
   },
   "outputs": [
    {
     "data": {
      "text/html": [
       "<div>\n",
       "<style scoped>\n",
       "    .dataframe tbody tr th:only-of-type {\n",
       "        vertical-align: middle;\n",
       "    }\n",
       "\n",
       "    .dataframe tbody tr th {\n",
       "        vertical-align: top;\n",
       "    }\n",
       "\n",
       "    .dataframe thead th {\n",
       "        text-align: right;\n",
       "    }\n",
       "</style>\n",
       "<table border=\"1\" class=\"dataframe\">\n",
       "  <thead>\n",
       "    <tr style=\"text-align: right;\">\n",
       "      <th></th>\n",
       "      <th>administrative</th>\n",
       "      <th>administrative_duration</th>\n",
       "      <th>informational</th>\n",
       "      <th>informational_duration</th>\n",
       "      <th>productrelated</th>\n",
       "      <th>productrelated_duration</th>\n",
       "      <th>bouncerates</th>\n",
       "      <th>exitrates</th>\n",
       "      <th>pagevalues</th>\n",
       "      <th>specialday</th>\n",
       "      <th>region</th>\n",
       "      <th>weekend</th>\n",
       "      <th>revenue</th>\n",
       "    </tr>\n",
       "  </thead>\n",
       "  <tbody>\n",
       "    <tr>\n",
       "      <th>administrative</th>\n",
       "      <td>1.000000</td>\n",
       "      <td>0.584591</td>\n",
       "      <td>0.391376</td>\n",
       "      <td>0.274033</td>\n",
       "      <td>0.448923</td>\n",
       "      <td>0.404122</td>\n",
       "      <td>-0.216715</td>\n",
       "      <td>-0.305196</td>\n",
       "      <td>0.111947</td>\n",
       "      <td>-0.113749</td>\n",
       "      <td>0.000464</td>\n",
       "      <td>0.013802</td>\n",
       "      <td>0.153184</td>\n",
       "    </tr>\n",
       "    <tr>\n",
       "      <th>administrative_duration</th>\n",
       "      <td>0.584591</td>\n",
       "      <td>1.000000</td>\n",
       "      <td>0.280706</td>\n",
       "      <td>0.199530</td>\n",
       "      <td>0.295017</td>\n",
       "      <td>0.295905</td>\n",
       "      <td>-0.151642</td>\n",
       "      <td>-0.211213</td>\n",
       "      <td>0.078031</td>\n",
       "      <td>-0.085400</td>\n",
       "      <td>0.000327</td>\n",
       "      <td>0.017291</td>\n",
       "      <td>0.108333</td>\n",
       "    </tr>\n",
       "    <tr>\n",
       "      <th>informational</th>\n",
       "      <td>0.391376</td>\n",
       "      <td>0.280706</td>\n",
       "      <td>1.000000</td>\n",
       "      <td>0.582061</td>\n",
       "      <td>0.377951</td>\n",
       "      <td>0.382982</td>\n",
       "      <td>-0.114343</td>\n",
       "      <td>-0.164425</td>\n",
       "      <td>0.081288</td>\n",
       "      <td>-0.064004</td>\n",
       "      <td>-0.023256</td>\n",
       "      <td>0.017282</td>\n",
       "      <td>0.111862</td>\n",
       "    </tr>\n",
       "    <tr>\n",
       "      <th>informational_duration</th>\n",
       "      <td>0.274033</td>\n",
       "      <td>0.199530</td>\n",
       "      <td>0.582061</td>\n",
       "      <td>1.000000</td>\n",
       "      <td>0.271146</td>\n",
       "      <td>0.281936</td>\n",
       "      <td>-0.075931</td>\n",
       "      <td>-0.108674</td>\n",
       "      <td>0.058064</td>\n",
       "      <td>-0.036898</td>\n",
       "      <td>-0.012577</td>\n",
       "      <td>0.015120</td>\n",
       "      <td>0.081428</td>\n",
       "    </tr>\n",
       "    <tr>\n",
       "      <th>productrelated</th>\n",
       "      <td>0.448923</td>\n",
       "      <td>0.295017</td>\n",
       "      <td>0.377951</td>\n",
       "      <td>0.271146</td>\n",
       "      <td>1.000000</td>\n",
       "      <td>0.750811</td>\n",
       "      <td>-0.203085</td>\n",
       "      <td>-0.294395</td>\n",
       "      <td>0.078932</td>\n",
       "      <td>-0.047917</td>\n",
       "      <td>-0.012495</td>\n",
       "      <td>-0.012419</td>\n",
       "      <td>0.183891</td>\n",
       "    </tr>\n",
       "    <tr>\n",
       "      <th>productrelated_duration</th>\n",
       "      <td>0.404122</td>\n",
       "      <td>0.295905</td>\n",
       "      <td>0.382982</td>\n",
       "      <td>0.281936</td>\n",
       "      <td>0.750811</td>\n",
       "      <td>1.000000</td>\n",
       "      <td>-0.200532</td>\n",
       "      <td>-0.282332</td>\n",
       "      <td>0.086422</td>\n",
       "      <td>-0.048580</td>\n",
       "      <td>-0.016108</td>\n",
       "      <td>-0.008661</td>\n",
       "      <td>0.180542</td>\n",
       "    </tr>\n",
       "    <tr>\n",
       "      <th>bouncerates</th>\n",
       "      <td>-0.216715</td>\n",
       "      <td>-0.151642</td>\n",
       "      <td>-0.114343</td>\n",
       "      <td>-0.075931</td>\n",
       "      <td>-0.203085</td>\n",
       "      <td>-0.200532</td>\n",
       "      <td>1.000000</td>\n",
       "      <td>0.893595</td>\n",
       "      <td>-0.128633</td>\n",
       "      <td>0.066774</td>\n",
       "      <td>-0.011816</td>\n",
       "      <td>-0.048048</td>\n",
       "      <td>-0.145773</td>\n",
       "    </tr>\n",
       "    <tr>\n",
       "      <th>exitrates</th>\n",
       "      <td>-0.305196</td>\n",
       "      <td>-0.211213</td>\n",
       "      <td>-0.164425</td>\n",
       "      <td>-0.108674</td>\n",
       "      <td>-0.294395</td>\n",
       "      <td>-0.282332</td>\n",
       "      <td>0.893595</td>\n",
       "      <td>1.000000</td>\n",
       "      <td>-0.171443</td>\n",
       "      <td>0.089374</td>\n",
       "      <td>-0.010686</td>\n",
       "      <td>-0.058484</td>\n",
       "      <td>-0.193799</td>\n",
       "    </tr>\n",
       "    <tr>\n",
       "      <th>pagevalues</th>\n",
       "      <td>0.111947</td>\n",
       "      <td>0.078031</td>\n",
       "      <td>0.081288</td>\n",
       "      <td>0.058064</td>\n",
       "      <td>0.078932</td>\n",
       "      <td>0.086422</td>\n",
       "      <td>-0.128633</td>\n",
       "      <td>-0.171443</td>\n",
       "      <td>1.000000</td>\n",
       "      <td>-0.058967</td>\n",
       "      <td>-0.004583</td>\n",
       "      <td>0.009022</td>\n",
       "      <td>0.507821</td>\n",
       "    </tr>\n",
       "    <tr>\n",
       "      <th>specialday</th>\n",
       "      <td>-0.113749</td>\n",
       "      <td>-0.085400</td>\n",
       "      <td>-0.064004</td>\n",
       "      <td>-0.036898</td>\n",
       "      <td>-0.047917</td>\n",
       "      <td>-0.048580</td>\n",
       "      <td>0.066774</td>\n",
       "      <td>0.089374</td>\n",
       "      <td>-0.058967</td>\n",
       "      <td>1.000000</td>\n",
       "      <td>-0.013882</td>\n",
       "      <td>-0.049480</td>\n",
       "      <td>-0.078758</td>\n",
       "    </tr>\n",
       "    <tr>\n",
       "      <th>region</th>\n",
       "      <td>0.000464</td>\n",
       "      <td>0.000327</td>\n",
       "      <td>-0.023256</td>\n",
       "      <td>-0.012577</td>\n",
       "      <td>-0.012495</td>\n",
       "      <td>-0.016108</td>\n",
       "      <td>-0.011816</td>\n",
       "      <td>-0.010686</td>\n",
       "      <td>-0.004583</td>\n",
       "      <td>-0.013882</td>\n",
       "      <td>1.000000</td>\n",
       "      <td>-0.005222</td>\n",
       "      <td>-0.010116</td>\n",
       "    </tr>\n",
       "    <tr>\n",
       "      <th>weekend</th>\n",
       "      <td>0.013802</td>\n",
       "      <td>0.017291</td>\n",
       "      <td>0.017282</td>\n",
       "      <td>0.015120</td>\n",
       "      <td>-0.012419</td>\n",
       "      <td>-0.008661</td>\n",
       "      <td>-0.048048</td>\n",
       "      <td>-0.058484</td>\n",
       "      <td>0.009022</td>\n",
       "      <td>-0.049480</td>\n",
       "      <td>-0.005222</td>\n",
       "      <td>1.000000</td>\n",
       "      <td>0.020203</td>\n",
       "    </tr>\n",
       "    <tr>\n",
       "      <th>revenue</th>\n",
       "      <td>0.153184</td>\n",
       "      <td>0.108333</td>\n",
       "      <td>0.111862</td>\n",
       "      <td>0.081428</td>\n",
       "      <td>0.183891</td>\n",
       "      <td>0.180542</td>\n",
       "      <td>-0.145773</td>\n",
       "      <td>-0.193799</td>\n",
       "      <td>0.507821</td>\n",
       "      <td>-0.078758</td>\n",
       "      <td>-0.010116</td>\n",
       "      <td>0.020203</td>\n",
       "      <td>1.000000</td>\n",
       "    </tr>\n",
       "  </tbody>\n",
       "</table>\n",
       "</div>"
      ],
      "text/plain": [
       "                         administrative  administrative_duration  \\\n",
       "administrative                 1.000000                 0.584591   \n",
       "administrative_duration        0.584591                 1.000000   \n",
       "informational                  0.391376                 0.280706   \n",
       "informational_duration         0.274033                 0.199530   \n",
       "productrelated                 0.448923                 0.295017   \n",
       "productrelated_duration        0.404122                 0.295905   \n",
       "bouncerates                   -0.216715                -0.151642   \n",
       "exitrates                     -0.305196                -0.211213   \n",
       "pagevalues                     0.111947                 0.078031   \n",
       "specialday                    -0.113749                -0.085400   \n",
       "region                         0.000464                 0.000327   \n",
       "weekend                        0.013802                 0.017291   \n",
       "revenue                        0.153184                 0.108333   \n",
       "\n",
       "                         informational  informational_duration  \\\n",
       "administrative                0.391376                0.274033   \n",
       "administrative_duration       0.280706                0.199530   \n",
       "informational                 1.000000                0.582061   \n",
       "informational_duration        0.582061                1.000000   \n",
       "productrelated                0.377951                0.271146   \n",
       "productrelated_duration       0.382982                0.281936   \n",
       "bouncerates                  -0.114343               -0.075931   \n",
       "exitrates                    -0.164425               -0.108674   \n",
       "pagevalues                    0.081288                0.058064   \n",
       "specialday                   -0.064004               -0.036898   \n",
       "region                       -0.023256               -0.012577   \n",
       "weekend                       0.017282                0.015120   \n",
       "revenue                       0.111862                0.081428   \n",
       "\n",
       "                         productrelated  productrelated_duration  bouncerates  \\\n",
       "administrative                 0.448923                 0.404122    -0.216715   \n",
       "administrative_duration        0.295017                 0.295905    -0.151642   \n",
       "informational                  0.377951                 0.382982    -0.114343   \n",
       "informational_duration         0.271146                 0.281936    -0.075931   \n",
       "productrelated                 1.000000                 0.750811    -0.203085   \n",
       "productrelated_duration        0.750811                 1.000000    -0.200532   \n",
       "bouncerates                   -0.203085                -0.200532     1.000000   \n",
       "exitrates                     -0.294395                -0.282332     0.893595   \n",
       "pagevalues                     0.078932                 0.086422    -0.128633   \n",
       "specialday                    -0.047917                -0.048580     0.066774   \n",
       "region                        -0.012495                -0.016108    -0.011816   \n",
       "weekend                       -0.012419                -0.008661    -0.048048   \n",
       "revenue                        0.183891                 0.180542    -0.145773   \n",
       "\n",
       "                         exitrates  pagevalues  specialday    region  \\\n",
       "administrative           -0.305196    0.111947   -0.113749  0.000464   \n",
       "administrative_duration  -0.211213    0.078031   -0.085400  0.000327   \n",
       "informational            -0.164425    0.081288   -0.064004 -0.023256   \n",
       "informational_duration   -0.108674    0.058064   -0.036898 -0.012577   \n",
       "productrelated           -0.294395    0.078932   -0.047917 -0.012495   \n",
       "productrelated_duration  -0.282332    0.086422   -0.048580 -0.016108   \n",
       "bouncerates               0.893595   -0.128633    0.066774 -0.011816   \n",
       "exitrates                 1.000000   -0.171443    0.089374 -0.010686   \n",
       "pagevalues               -0.171443    1.000000   -0.058967 -0.004583   \n",
       "specialday                0.089374   -0.058967    1.000000 -0.013882   \n",
       "region                   -0.010686   -0.004583   -0.013882  1.000000   \n",
       "weekend                  -0.058484    0.009022   -0.049480 -0.005222   \n",
       "revenue                  -0.193799    0.507821   -0.078758 -0.010116   \n",
       "\n",
       "                          weekend   revenue  \n",
       "administrative           0.013802  0.153184  \n",
       "administrative_duration  0.017291  0.108333  \n",
       "informational            0.017282  0.111862  \n",
       "informational_duration   0.015120  0.081428  \n",
       "productrelated          -0.012419  0.183891  \n",
       "productrelated_duration -0.008661  0.180542  \n",
       "bouncerates             -0.048048 -0.145773  \n",
       "exitrates               -0.058484 -0.193799  \n",
       "pagevalues               0.009022  0.507821  \n",
       "specialday              -0.049480 -0.078758  \n",
       "region                  -0.005222 -0.010116  \n",
       "weekend                  1.000000  0.020203  \n",
       "revenue                  0.020203  1.000000  "
      ]
     },
     "execution_count": 652,
     "metadata": {},
     "output_type": "execute_result"
    }
   ],
   "source": [
    "data.corr()"
   ]
  },
  {
   "cell_type": "code",
   "execution_count": 653,
   "metadata": {
    "colab": {
     "base_uri": "https://localhost:8080/",
     "height": 613
    },
    "id": "1LSNojJiW0Ut",
    "outputId": "1c3a07b1-f2ad-4df9-c852-820db36d5ef0"
   },
   "outputs": [
    {
     "data": {
      "image/png": "[encoded data removed]",
      "text/plain": [
       "<Figure size 1080x576 with 2 Axes>"
      ]
     },
     "metadata": {
      "needs_background": "light"
     },
     "output_type": "display_data"
    }
   ],
   "source": [
    "plt.figure(figsize =(15,8))\n",
    "\n",
    "#Plot the correlation using heatmap\n",
    "ax = sns.heatmap(data.corr(), annot=True)"
   ]
  },
  {
   "cell_type": "markdown",
   "metadata": {
    "id": "dO38jfoIW0Ut"
   },
   "source": [
    "### Exit rate and bounce rate have strong correlation. So either of the two features can be dropped during model creation."
   ]
  },
  {
   "cell_type": "code",
   "execution_count": 654,
   "metadata": {
    "colab": {
     "base_uri": "https://localhost:8080/"
    },
    "id": "Vw--mJNFW0Ut",
    "outputId": "19a52227-a4b4-4f5d-97fa-4d77578b3eb8"
   },
   "outputs": [
    {
     "data": {
      "text/plain": [
       "revenue                    1.000000\n",
       "pagevalues                 0.507821\n",
       "exitrates                  0.193799\n",
       "productrelated             0.183891\n",
       "productrelated_duration    0.180542\n",
       "administrative             0.153184\n",
       "bouncerates                0.145773\n",
       "informational              0.111862\n",
       "administrative_duration    0.108333\n",
       "informational_duration     0.081428\n",
       "specialday                 0.078758\n",
       "weekend                    0.020203\n",
       "region                     0.010116\n",
       "Name: revenue, dtype: float64"
      ]
     },
     "execution_count": 654,
     "metadata": {},
     "output_type": "execute_result"
    }
   ],
   "source": [
    "a=data.corr()\n",
    "b=a['revenue'].abs()  # take the absolute value\n",
    "b.sort_values(ascending=False)"
   ]
  },
  {
   "cell_type": "markdown",
   "metadata": {
    "id": "6OzgSupfW0Uu"
   },
   "source": [
    "### [Infenrence] : features (traffictype,weekend,browser,operatingsystems and region) have very less correlation with the target feature \"revenue\"."
   ]
  },
  {
   "cell_type": "code",
   "execution_count": 655,
   "metadata": {
    "colab": {
     "base_uri": "https://localhost:8080/",
     "height": 563
    },
    "id": "jQ_7uYDGW0Uu",
    "outputId": "a8690628-8469-4afc-a2ef-7a0ff5847041"
   },
   "outputs": [],
   "source": [
    "#sns.pairplot(data.loc[:,['administrative_duration','informational_duration','productrelated_duration','revenue']],hue='revenue',kind='reg')"
   ]
  },
  {
   "cell_type": "markdown",
   "metadata": {
    "id": "1TaG__4fW0Uu"
   },
   "source": [
    "### No relation between type of pages visited by the user."
   ]
  },
  {
   "cell_type": "code",
   "execution_count": 656,
   "metadata": {
    "colab": {
     "base_uri": "https://localhost:8080/",
     "height": 752
    },
    "id": "JZm-JYZGW0Uv",
    "outputId": "998a638c-f86a-4e2e-a256-b89fbf59614e"
   },
   "outputs": [
    {
     "name": "stdout",
     "output_type": "stream",
     "text": [
      "       New_Visitor  Returning_Visitor\n",
      "month                                \n",
      "Aug       0.161334           0.838666\n",
      "Dec       0.183700           0.816300\n",
      "Feb       0.050287           0.949713\n",
      "Jul       0.134548           0.865452\n",
      "June      0.105140           0.894860\n",
      "Mar       0.121999           0.878001\n",
      "May       0.095880           0.904120\n",
      "Nov       0.124410           0.875590\n",
      "Oct       0.211957           0.788043\n",
      "Sep       0.219920           0.780080\n"
     ]
    },
    {
     "data": {
      "text/plain": [
       "<AxesSubplot:xlabel='month'>"
      ]
     },
     "execution_count": 656,
     "metadata": {},
     "output_type": "execute_result"
    },
    {
     "data": {
      "image/png": "[encoded data removed]",
      "text/plain": [
       "<Figure size 432x288 with 1 Axes>"
      ]
     },
     "metadata": {
      "needs_background": "light"
     },
     "output_type": "display_data"
    }
   ],
   "source": [
    "visitor_types=data.groupby('visitortype')['month'].value_counts()\n",
    "df=pd.DataFrame()\n",
    "df['New_Visitor']=visitor_types['New_Visitor']/(visitor_types['New_Visitor']+visitor_types['Returning_Visitor'])\n",
    "df['Returning_Visitor']=visitor_types['Returning_Visitor']/(visitor_types['New_Visitor']+visitor_types['Returning_Visitor'])\n",
    "print(df)\n",
    "df.plot.bar(stacked=True)"
   ]
  },
  {
   "cell_type": "code",
   "execution_count": 657,
   "metadata": {
    "colab": {
     "base_uri": "https://localhost:8080/",
     "height": 548
    },
    "id": "_aeOGV0sW0Uv",
    "outputId": "2c39e644-136a-4a5d-dd33-b52d951bf05c"
   },
   "outputs": [
    {
     "data": {
      "text/plain": [
       "<AxesSubplot:xlabel='month'>"
      ]
     },
     "execution_count": 657,
     "metadata": {},
     "output_type": "execute_result"
    },
    {
     "data": {
      "image/png": "[encoded data removed]",
      "text/plain": [
       "<Figure size 432x288 with 1 Axes>"
      ]
     },
     "metadata": {
      "needs_background": "light"
     },
     "output_type": "display_data"
    }
   ],
   "source": [
    "monthwise_revenue=pd.crosstab(data['month'],data['revenue'])\n",
    "monthwise_revenue_temp=monthwise_revenue.copy()\n",
    "monthwise_revenue[0]=monthwise_revenue_temp[0]/(monthwise_revenue_temp[0]+monthwise_revenue_temp[1])\n",
    "monthwise_revenue[1]=monthwise_revenue_temp[1]/(monthwise_revenue_temp[0]+monthwise_revenue_temp[1])\n",
    "monthwise_revenue.plot.bar(stacked=True)"
   ]
  },
  {
   "cell_type": "markdown",
   "metadata": {
    "id": "pv21gsYkW0Uv"
   },
   "source": [
    "### from the above two plots, it is seen that in the month of February, there is highest percentage of returning visitors out of total visitors, but revenue generation is very low. So some special scheme or offer can be provided during these period to entice customers for purchasing. \n",
    "\n",
    "In the other hand, maximum visitors are present in november and november also has maximum revenue generation percentage."
   ]
  },
  {
   "cell_type": "code",
   "execution_count": 658,
   "metadata": {
    "colab": {
     "base_uri": "https://localhost:8080/",
     "height": 105
    },
    "id": "OoQewrvZW0Uw",
    "outputId": "eaf28ced-48f5-425f-b3e0-f8a4f510ff60"
   },
   "outputs": [
    {
     "data": {
      "text/plain": [
       "<AxesSubplot:xlabel='informational', ylabel='informational_duration'>"
      ]
     },
     "execution_count": 658,
     "metadata": {},
     "output_type": "execute_result"
    },
    {
     "data": {
      "image/png": "[encoded data removed]",
      "text/plain": [
       "<Figure size 432x288 with 1 Axes>"
      ]
     },
     "metadata": {
      "needs_background": "light"
     },
     "output_type": "display_data"
    }
   ],
   "source": [
    "sns.boxplot(x=data['informational'],y=data['informational_duration'],hue=data['revenue'])"
   ]
  },
  {
   "cell_type": "markdown",
   "metadata": {
    "id": "vKDg8vGrW0Uw"
   },
   "source": [
    "### More the informational pages visited, more visitors are inclined to do purchase."
   ]
  },
  {
   "cell_type": "code",
   "execution_count": 659,
   "metadata": {
    "colab": {
     "base_uri": "https://localhost:8080/",
     "height": 500
    },
    "id": "es0E3NEoW0Uw",
    "outputId": "777a1eee-c806-4a9f-b4f7-3fae0f908bb0"
   },
   "outputs": [
    {
     "data": {
      "image/png": "[encoded data removed]",
      "text/plain": [
       "<Figure size 432x288 with 1 Axes>"
      ]
     },
     "metadata": {
      "needs_background": "light"
     },
     "output_type": "display_data"
    }
   ],
   "source": [
    "#average time spent by users in different types of pages\n",
    "admin_time_average=np.mean((data['administrative_duration']/data['administrative']).dropna())\n",
    "information_time_average=np.mean((data['informational_duration']/data['informational']).dropna())\n",
    "product_time_average=np.mean((data['productrelated_duration']/data['productrelated']).dropna())\n",
    "plt.plot(['administrative','informational','productrelated'],[admin_time_average,information_time_average,product_time_average],'-*')\n",
    "plt.show()\n",
    "\n",
    "\n"
   ]
  },
  {
   "cell_type": "markdown",
   "metadata": {
    "id": "9hx4qzKPW0Uw"
   },
   "source": [
    "### as total time spent in productrelated page is the highest but time spent per productrelated page is almost half of time spent in informational page, design of product page should be clutter free and enticing for the user to make a purchase. More information can be provided in informational pages, as user tend to spend higher amount of time in informational pages."
   ]
  },
  {
   "cell_type": "code",
   "execution_count": 660,
   "metadata": {
    "colab": {
     "base_uri": "https://localhost:8080/",
     "height": 517
    },
    "id": "Ka0z9l7dW0Uw",
    "outputId": "812552cb-7380-47ba-96f2-a01129bb236c"
   },
   "outputs": [
    {
     "data": {
      "text/plain": [
       "<AxesSubplot:>"
      ]
     },
     "execution_count": 660,
     "metadata": {},
     "output_type": "execute_result"
    },
    {
     "data": {
      "image/png": "[encoded data removed]",
      "text/plain": [
       "<Figure size 432x288 with 1 Axes>"
      ]
     },
     "metadata": {
      "needs_background": "light"
     },
     "output_type": "display_data"
    }
   ],
   "source": [
    "data.boxplot(column=['informational','administrative','productrelated'])"
   ]
  },
  {
   "cell_type": "markdown",
   "metadata": {
    "id": "yp_KZiujW0Ux"
   },
   "source": [
    "### Users have visited product related pages much more times as compared to administrative and informal pages"
   ]
  },
  {
   "cell_type": "code",
   "execution_count": 661,
   "metadata": {
    "colab": {
     "base_uri": "https://localhost:8080/",
     "height": 534
    },
    "id": "j6cGo8MfW0Ux",
    "outputId": "af8651d3-6b98-4745-86b3-c493dd19b685"
   },
   "outputs": [
    {
     "data": {
      "text/plain": [
       "<AxesSubplot:xlabel='revenue', ylabel='bouncerates'>"
      ]
     },
     "execution_count": 661,
     "metadata": {},
     "output_type": "execute_result"
    },
    {
     "data": {
      "image/png": "[encoded data removed]",
      "text/plain": [
       "<Figure size 432x288 with 1 Axes>"
      ]
     },
     "metadata": {
      "needs_background": "light"
     },
     "output_type": "display_data"
    }
   ],
   "source": [
    "sns.barplot(y='bouncerates',x='revenue',data=data)"
   ]
  },
  {
   "cell_type": "code",
   "execution_count": 662,
   "metadata": {
    "colab": {
     "base_uri": "https://localhost:8080/",
     "height": 534
    },
    "id": "2ImEdXgHW0Ux",
    "outputId": "52bcf61f-7fca-4ff9-f6e9-872260133021"
   },
   "outputs": [
    {
     "data": {
      "text/plain": [
       "<AxesSubplot:xlabel='revenue', ylabel='pagevalues'>"
      ]
     },
     "execution_count": 662,
     "metadata": {},
     "output_type": "execute_result"
    },
    {
     "data": {
      "image/png": "[encoded data removed]",
      "text/plain": [
       "<Figure size 432x288 with 1 Axes>"
      ]
     },
     "metadata": {
      "needs_background": "light"
     },
     "output_type": "display_data"
    }
   ],
   "source": [
    "sns.barplot(x='revenue',y='pagevalues',data=data)"
   ]
  },
  {
   "cell_type": "markdown",
   "metadata": {
    "id": "9cdfaKMUW0Ux"
   },
   "source": [
    "### higher page values result in higher revenue. "
   ]
  },
  {
   "cell_type": "code",
   "execution_count": 663,
   "metadata": {
    "colab": {
     "base_uri": "https://localhost:8080/",
     "height": 454
    },
    "id": "OQUdGDq_W0Ux",
    "outputId": "a23fccf2-d6d0-4931-9a9a-624aa1093b75"
   },
   "outputs": [
    {
     "data": {
      "text/plain": [
       "<seaborn.axisgrid.JointGrid at 0x7fa3beb86d30>"
      ]
     },
     "execution_count": 663,
     "metadata": {},
     "output_type": "execute_result"
    },
    {
     "data": {
      "image/png": "[encoded data removed]",
      "text/plain": [
       "<Figure size 432x432 with 3 Axes>"
      ]
     },
     "metadata": {
      "needs_background": "light"
     },
     "output_type": "display_data"
    }
   ],
   "source": [
    "sns.jointplot(data=data, x=\"bouncerates\", y=\"exitrates\", hue=\"revenue\")"
   ]
  },
  {
   "cell_type": "markdown",
   "metadata": {
    "id": "tignLPR4W0Ux"
   },
   "source": [
    "### Maximum revenue concentration is at lower bounce rate and lower exit rate, which is expected."
   ]
  },
  {
   "cell_type": "code",
   "execution_count": 664,
   "metadata": {
    "colab": {
     "base_uri": "https://localhost:8080/",
     "height": 531
    },
    "id": "7AoDIvJ3W0Ux",
    "outputId": "269a91b8-a3b6-490e-c003-33361604de6e"
   },
   "outputs": [
    {
     "data": {
      "text/plain": [
       "<AxesSubplot:xlabel='region'>"
      ]
     },
     "execution_count": 664,
     "metadata": {},
     "output_type": "execute_result"
    },
    {
     "data": {
      "image/png": "[encoded data removed]",
      "text/plain": [
       "<Figure size 432x288 with 1 Axes>"
      ]
     },
     "metadata": {
      "needs_background": "light"
     },
     "output_type": "display_data"
    }
   ],
   "source": [
    "regionwise_revenue=data.groupby(['revenue'])['region'].value_counts()\n",
    "data2=pd.DataFrame()\n",
    "data2['no_revenue']=regionwise_revenue[0]\n",
    "data2['revenue']=regionwise_revenue[1]\n",
    "data2.plot.bar(stacked=True)\n",
    "\n"
   ]
  },
  {
   "cell_type": "code",
   "execution_count": 665,
   "metadata": {
    "colab": {
     "base_uri": "https://localhost:8080/",
     "height": 531
    },
    "id": "RvxMFs1vW0Ux",
    "outputId": "6f19dae8-da5c-4141-e18f-5ffcc083c1a6"
   },
   "outputs": [
    {
     "data": {
      "text/plain": [
       "<AxesSubplot:xlabel='region'>"
      ]
     },
     "execution_count": 665,
     "metadata": {},
     "output_type": "execute_result"
    },
    {
     "data": {
      "image/png": "[encoded data removed]",
      "text/plain": [
       "<Figure size 432x288 with 1 Axes>"
      ]
     },
     "metadata": {
      "needs_background": "light"
     },
     "output_type": "display_data"
    }
   ],
   "source": [
    "regionwise_revenue_true=regionwise_revenue[1]\n",
    "regionwise_revenue_false=regionwise_revenue[0]\n",
    "ratios=regionwise_revenue_true/(regionwise_revenue_false+regionwise_revenue_true)\n",
    "ratios.plot.bar()"
   ]
  },
  {
   "cell_type": "markdown",
   "metadata": {
    "id": "PhhvEtmaW0Uy"
   },
   "source": [
    "### Region 1 has highest number of visitors. but region 9 has highest percentage of successful transactions despite having less number of visitors. "
   ]
  },
  {
   "cell_type": "code",
   "execution_count": 666,
   "metadata": {
    "colab": {
     "base_uri": "https://localhost:8080/",
     "height": 618
    },
    "id": "Ea5H8ee4W0Uy",
    "outputId": "a130ef2c-ce1a-497c-f8a4-6a7b9fc2724a"
   },
   "outputs": [
    {
     "name": "stdout",
     "output_type": "stream",
     "text": [
      "[14.28571429 26.18683002 12.5        85.71428571 73.81316998 87.5       ]\n"
     ]
    },
    {
     "data": {
      "image/png": "[encoded data removed]",
      "text/plain": [
       "<Figure size 432x288 with 1 Axes>"
      ]
     },
     "metadata": {
      "needs_background": "light"
     },
     "output_type": "display_data"
    }
   ],
   "source": [
    "data1=data.groupby('revenue')['visitortype'].value_counts()\n",
    "data2=pd.DataFrame()\n",
    "data2['no_revenue']=data1[0]\n",
    "data2['revenue']=data1[1]\n",
    "data2['percentage']=data2['revenue']/(data2['revenue']+data2['no_revenue'])\n",
    "ax=data2[['no_revenue','revenue']].plot.bar(stacked=True,mark_right=True)\n",
    "\n",
    "kx = -0.2\n",
    "ky = -0.02\n",
    "values=np.zeros(6)\n",
    "count=0\n",
    "for k in data2.percentage:\n",
    "    values[count]=k*100\n",
    "    values[count+3]=(1-k)*100\n",
    "    count=count+1\n",
    "print(values)\n",
    "for i,rec in enumerate(ax.patches):\n",
    "#     print(i,rec)\n",
    "    ax.text(rec.get_xy()[0]+rec.get_width()/2+kx,rec.get_xy()[1]+rec.get_height()/2+ky,'{:.2%}'.format(values[i]/100), fontsize=12, color='black')"
   ]
  },
  {
   "cell_type": "code",
   "execution_count": 667,
   "metadata": {
    "id": "o8n7ZVY1W0Uy"
   },
   "outputs": [],
   "source": [
    "# le=LabelEncoder()\n",
    "# data['month']=le.fit_transform(data['month'])\n",
    "# print(le.classes_)"
   ]
  },
  {
   "cell_type": "code",
   "execution_count": 668,
   "metadata": {
    "id": "t7uCse74W0Uy"
   },
   "outputs": [],
   "source": [
    "# le_visitor=LabelEncoder()\n",
    "# data['visitortype']=le_visitor.fit_transform(data['visitortype'])\n",
    "# print(le_visitor.classes_)"
   ]
  },
  {
   "cell_type": "markdown",
   "metadata": {
    "id": "lMVGoiboW0Uy"
   },
   "source": [
    "# Bivariate analysis"
   ]
  },
  {
   "cell_type": "code",
   "execution_count": 669,
   "metadata": {
    "colab": {
     "base_uri": "https://localhost:8080/",
     "height": 105
    },
    "id": "2YyMSmdPW0Uy",
    "outputId": "cf14286d-ad93-459d-a0d5-5cc6f96f1513"
   },
   "outputs": [
    {
     "data": {
      "text/plain": [
       "<AxesSubplot:xlabel='count', ylabel='operatingsystems'>"
      ]
     },
     "execution_count": 669,
     "metadata": {},
     "output_type": "execute_result"
    },
    {
     "data": {
      "image/png": "[encoded data removed]",
      "text/plain": [
       "<Figure size 432x288 with 1 Axes>"
      ]
     },
     "metadata": {
      "needs_background": "light"
     },
     "output_type": "display_data"
    }
   ],
   "source": [
    "sns.countplot(y=data.operatingsystems,hue=data.revenue)"
   ]
  },
  {
   "cell_type": "code",
   "execution_count": 670,
   "metadata": {
    "colab": {
     "base_uri": "https://localhost:8080/",
     "height": 105
    },
    "id": "qXy1AJhxW0Uz",
    "outputId": "fe8211a2-98e7-4902-c991-3c7f8bc42b75"
   },
   "outputs": [
    {
     "data": {
      "text/plain": [
       "<AxesSubplot:xlabel='count', ylabel='browser'>"
      ]
     },
     "execution_count": 670,
     "metadata": {},
     "output_type": "execute_result"
    },
    {
     "data": {
      "image/png": "[encoded data removed]",
      "text/plain": [
       "<Figure size 432x288 with 1 Axes>"
      ]
     },
     "metadata": {
      "needs_background": "light"
     },
     "output_type": "display_data"
    }
   ],
   "source": [
    "sns.countplot(y=data.browser,hue=data.revenue)"
   ]
  },
  {
   "cell_type": "code",
   "execution_count": 671,
   "metadata": {
    "colab": {
     "base_uri": "https://localhost:8080/",
     "height": 105
    },
    "id": "cU7rRjR1W0Uz",
    "outputId": "4bff02de-152a-48ef-e627-c91d22f91e61"
   },
   "outputs": [
    {
     "data": {
      "text/plain": [
       "<AxesSubplot:xlabel='count', ylabel='region'>"
      ]
     },
     "execution_count": 671,
     "metadata": {},
     "output_type": "execute_result"
    },
    {
     "data": {
      "image/png": "[encoded data removed]",
      "text/plain": [
       "<Figure size 432x288 with 1 Axes>"
      ]
     },
     "metadata": {
      "needs_background": "light"
     },
     "output_type": "display_data"
    }
   ],
   "source": [
    "sns.countplot(y=data.region,hue=data.revenue)"
   ]
  },
  {
   "cell_type": "code",
   "execution_count": 672,
   "metadata": {
    "colab": {
     "base_uri": "https://localhost:8080/",
     "height": 105
    },
    "id": "dDjaRJIlW0Uz",
    "outputId": "f276b4b3-bc3c-4a97-cc56-fe14c67ef79e"
   },
   "outputs": [
    {
     "data": {
      "text/plain": [
       "<AxesSubplot:xlabel='count', ylabel='traffictype'>"
      ]
     },
     "execution_count": 672,
     "metadata": {},
     "output_type": "execute_result"
    },
    {
     "data": {
      "image/png": "[encoded data removed]",
      "text/plain": [
       "<Figure size 432x288 with 1 Axes>"
      ]
     },
     "metadata": {
      "needs_background": "light"
     },
     "output_type": "display_data"
    }
   ],
   "source": [
    "sns.countplot(y=data.traffictype,hue=data.revenue)"
   ]
  },
  {
   "cell_type": "code",
   "execution_count": 673,
   "metadata": {
    "colab": {
     "base_uri": "https://localhost:8080/",
     "height": 105
    },
    "id": "bHbI8KRrW0Uz",
    "outputId": "416d3432-e253-4509-d0c8-e9def2f034ca"
   },
   "outputs": [
    {
     "data": {
      "text/plain": [
       "<AxesSubplot:xlabel='count', ylabel='weekend'>"
      ]
     },
     "execution_count": 673,
     "metadata": {},
     "output_type": "execute_result"
    },
    {
     "data": {
      "image/png": "[encoded data removed]",
      "text/plain": [
       "<Figure size 432x288 with 1 Axes>"
      ]
     },
     "metadata": {
      "needs_background": "light"
     },
     "output_type": "display_data"
    }
   ],
   "source": [
    "sns.countplot(y=data.weekend,hue=data.revenue)"
   ]
  },
  {
   "cell_type": "markdown",
   "metadata": {
    "id": "ySLWGimTW0Uz"
   },
   "source": [
    "## Inferences from bivariate analysis\n",
    "1. Month of may has higher visitor count while month of november has the highest sale count.\n",
    "2. operating system : 2, browser: 2 and region : 1 , traffictype:2 are highest contributor for visitors as well as sale\n",
    "3. New visitors although lesser in count, has higher percentage of sale where as returning visitors constitute of majority of visits to the site.\n",
    "4. weekday sale numbers and visitor count are higher compared to weekends "
   ]
  },
  {
   "cell_type": "markdown",
   "metadata": {
    "id": "o85z2EybW0Uz"
   },
   "source": [
    "# Outlier analysis"
   ]
  },
  {
   "cell_type": "code",
   "execution_count": 674,
   "metadata": {
    "id": "z4eoKza1W0Uz",
    "scrolled": true
   },
   "outputs": [],
   "source": [
    "# sns.set(rc={'figure.figsize':(15,8.27)})\n",
    "# sns.set_theme(style=\"darkgrid\")\n",
    "# column_names=['administrative','administrative_duration','informational','informational_duration','productrelated','productrelated_duration','bouncerates','pagevalues']\n",
    "# for col in column_names:\n",
    "    \n",
    "#     col_mean=data[col].mean()\n",
    "#     col_std=data[col].std()\n",
    "#     data.drop(data[data[col]>(col_mean+3*col_std)].index,inplace=True)\n",
    "#     sns.boxplot(data[col])\n",
    "#     plt.show()\n",
    "# data.info()\n",
    "\n"
   ]
  },
  {
   "cell_type": "markdown",
   "metadata": {
    "id": "yws4JOuhW0U0"
   },
   "source": [
    "# Model fitting"
   ]
  },
  {
   "cell_type": "markdown",
   "metadata": {
    "id": "0kTrrzCyW0U0"
   },
   "source": [
    "## 1. Data preparation\n",
    "\n",
    "we will drop columns of administrative duration, informational duration, productrelated duration and bounce rates. \n"
   ]
  },
  {
   "cell_type": "code",
   "execution_count": 675,
   "metadata": {
    "colab": {
     "base_uri": "https://localhost:8080/"
    },
    "id": "zbqD3aBBW0U0",
    "outputId": "38a5551f-f33f-47c2-893f-8877cce91509"
   },
   "outputs": [
    {
     "name": "stdout",
     "output_type": "stream",
     "text": [
      "(40000, 25)\n"
     ]
    }
   ],
   "source": [
    "# data.drop(columns=['administrative_duration','informational_duration','productrelated_duration','bouncerates'],inplace=True)\n",
    "# data.drop(columns=['bouncerates'],inplace=True)\n",
    "data.drop(columns=['bouncerates','traffictype'],inplace=True)\n",
    "# data=pd.get_dummies(data, columns=['operatingsystems','browser','region','month','visitortype'])\n",
    "data = pd.get_dummies(data = data, columns=['month', 'visitortype'], drop_first=True)\n",
    "print(data.shape)"
   ]
  },
  {
   "cell_type": "code",
   "execution_count": 676,
   "metadata": {
    "colab": {
     "base_uri": "https://localhost:8080/"
    },
    "id": "n2UXDX5LW0U0",
    "outputId": "bf321131-3fa8-4f09-d046-154009cffcac"
   },
   "outputs": [
    {
     "name": "stdout",
     "output_type": "stream",
     "text": [
      "<class 'pandas.core.frame.DataFrame'>\n",
      "RangeIndex: 40000 entries, 0 to 39999\n",
      "Data columns (total 25 columns):\n",
      " #   Column                         Non-Null Count  Dtype  \n",
      "---  ------                         --------------  -----  \n",
      " 0   administrative                 39971 non-null  float64\n",
      " 1   administrative_duration        40000 non-null  float64\n",
      " 2   informational                  39970 non-null  float64\n",
      " 3   informational_duration         40000 non-null  float64\n",
      " 4   productrelated                 39926 non-null  float64\n",
      " 5   productrelated_duration        40000 non-null  float64\n",
      " 6   exitrates                      40000 non-null  float64\n",
      " 7   pagevalues                     40000 non-null  float64\n",
      " 8   specialday                     40000 non-null  float64\n",
      " 9   operatingsystems               40000 non-null  object \n",
      " 10  browser                        40000 non-null  object \n",
      " 11  region                         40000 non-null  int64  \n",
      " 12  weekend                        40000 non-null  int64  \n",
      " 13  revenue                        40000 non-null  int64  \n",
      " 14  month_Dec                      40000 non-null  uint8  \n",
      " 15  month_Feb                      40000 non-null  uint8  \n",
      " 16  month_Jul                      40000 non-null  uint8  \n",
      " 17  month_June                     40000 non-null  uint8  \n",
      " 18  month_Mar                      40000 non-null  uint8  \n",
      " 19  month_May                      40000 non-null  uint8  \n",
      " 20  month_Nov                      40000 non-null  uint8  \n",
      " 21  month_Oct                      40000 non-null  uint8  \n",
      " 22  month_Sep                      40000 non-null  uint8  \n",
      " 23  visitortype_Other              40000 non-null  uint8  \n",
      " 24  visitortype_Returning_Visitor  40000 non-null  uint8  \n",
      "dtypes: float64(9), int64(3), object(2), uint8(11)\n",
      "memory usage: 4.7+ MB\n"
     ]
    }
   ],
   "source": [
    "data.info()"
   ]
  },
  {
   "cell_type": "code",
   "execution_count": 677,
   "metadata": {
    "colab": {
     "base_uri": "https://localhost:8080/"
    },
    "id": "VNZ1PXBgW0U0",
    "outputId": "4b341981-729d-42ad-c9d0-9f1d5ca264d2"
   },
   "outputs": [
    {
     "name": "stdout",
     "output_type": "stream",
     "text": [
      "(40000, 24) (40000,)\n"
     ]
    }
   ],
   "source": [
    "#separate the X_data and y_data\n",
    "column_names=data.columns\n",
    "\n",
    "X_data=data.drop(columns=['revenue'])\n",
    "y_data=data.revenue\n",
    "print(X_data.shape,y_data.shape)\n",
    "\n"
   ]
  },
  {
   "cell_type": "code",
   "execution_count": 678,
   "metadata": {},
   "outputs": [
    {
     "ename": "AttributeError",
     "evalue": "'DataFrame' object has no attribute 'revenue'",
     "output_type": "error",
     "traceback": [
      "\u001b[0;31m---------------------------------------------------------------------------\u001b[0m",
      "\u001b[0;31mAttributeError\u001b[0m                            Traceback (most recent call last)",
      "Input \u001b[0;32mIn [678]\u001b[0m, in \u001b[0;36m<cell line: 9>\u001b[0;34m()\u001b[0m\n\u001b[1;32m      6\u001b[0m X \u001b[38;5;241m=\u001b[39m X_data\u001b[38;5;241m.\u001b[39mcopy()\n\u001b[1;32m      8\u001b[0m \u001b[38;5;66;03m# separate minority and majority classes\u001b[39;00m\n\u001b[0;32m----> 9\u001b[0m no_revenue \u001b[38;5;241m=\u001b[39m X[\u001b[43mX\u001b[49m\u001b[38;5;241;43m.\u001b[39;49m\u001b[43mrevenue\u001b[49m\u001b[38;5;241m==\u001b[39m\u001b[38;5;241m0\u001b[39m]\n\u001b[1;32m     10\u001b[0m with_revenue \u001b[38;5;241m=\u001b[39m X[X\u001b[38;5;241m.\u001b[39mrevenue\u001b[38;5;241m==\u001b[39m\u001b[38;5;241m1\u001b[39m]\n\u001b[1;32m     12\u001b[0m \u001b[38;5;66;03m# upsample minority\u001b[39;00m\n",
      "File \u001b[0;32m~/opt/anaconda3/lib/python3.9/site-packages/pandas/core/generic.py:5575\u001b[0m, in \u001b[0;36mNDFrame.__getattr__\u001b[0;34m(self, name)\u001b[0m\n\u001b[1;32m   5568\u001b[0m \u001b[38;5;28;01mif\u001b[39;00m (\n\u001b[1;32m   5569\u001b[0m     name \u001b[38;5;129;01mnot\u001b[39;00m \u001b[38;5;129;01min\u001b[39;00m \u001b[38;5;28mself\u001b[39m\u001b[38;5;241m.\u001b[39m_internal_names_set\n\u001b[1;32m   5570\u001b[0m     \u001b[38;5;129;01mand\u001b[39;00m name \u001b[38;5;129;01mnot\u001b[39;00m \u001b[38;5;129;01min\u001b[39;00m \u001b[38;5;28mself\u001b[39m\u001b[38;5;241m.\u001b[39m_metadata\n\u001b[1;32m   5571\u001b[0m     \u001b[38;5;129;01mand\u001b[39;00m name \u001b[38;5;129;01mnot\u001b[39;00m \u001b[38;5;129;01min\u001b[39;00m \u001b[38;5;28mself\u001b[39m\u001b[38;5;241m.\u001b[39m_accessors\n\u001b[1;32m   5572\u001b[0m     \u001b[38;5;129;01mand\u001b[39;00m \u001b[38;5;28mself\u001b[39m\u001b[38;5;241m.\u001b[39m_info_axis\u001b[38;5;241m.\u001b[39m_can_hold_identifiers_and_holds_name(name)\n\u001b[1;32m   5573\u001b[0m ):\n\u001b[1;32m   5574\u001b[0m     \u001b[38;5;28;01mreturn\u001b[39;00m \u001b[38;5;28mself\u001b[39m[name]\n\u001b[0;32m-> 5575\u001b[0m \u001b[38;5;28;01mreturn\u001b[39;00m \u001b[38;5;28;43mobject\u001b[39;49m\u001b[38;5;241;43m.\u001b[39;49m\u001b[38;5;21;43m__getattribute__\u001b[39;49m\u001b[43m(\u001b[49m\u001b[38;5;28;43mself\u001b[39;49m\u001b[43m,\u001b[49m\u001b[43m \u001b[49m\u001b[43mname\u001b[49m\u001b[43m)\u001b[49m\n",
      "\u001b[0;31mAttributeError\u001b[0m: 'DataFrame' object has no attribute 'revenue'"
     ]
    }
   ],
   "source": [
    "from sklearn.utils import resample\n",
    "\n",
    "\n",
    "\n",
    "# concatenate our training data back together\n",
    "X = X_d\n",
    "\n",
    "# separate minority and majority classes\n",
    "no_revenue = X[X.revenue==0]\n",
    "with_revenue = X[X.revenue==1]\n",
    "\n",
    "# upsample minority\n",
    "revenue_upsampled = resample(with_revenue,\n",
    "                          replace=True, # sample with replacement\n",
    "                          n_samples=len(no_revenue), # match number in majority class\n",
    "                          random_state=27) # reproducible results\n",
    "\n",
    "# combine majority and upsampled minority\n",
    "upsampled = pd.concat([no_revenue, revenue_upsampled])\n",
    "y_data = upsampled.revenue\n",
    "X_data = upsampled.drop('revenue', axis=1)\n",
    "\n",
    "# X_data=pd.concat([X_train,X_test],axis=0)\n"
   ]
  },
  {
   "cell_type": "code",
   "execution_count": null,
   "metadata": {
    "id": "60ztJFYbW0U0"
   },
   "outputs": [],
   "source": [
    "# scale the dataset for better fitting\n",
    "# scaler=StandardScaler()\n",
    "# scaler.fit(X_data)\n",
    "# X_data_scaled=scaler.transform(X_data)\n",
    "num_vars = [\n",
    "    'administrative_duration',\n",
    "    'informational_duration',\n",
    "    'productrelated_duration',\n",
    "    'exitrates',\n",
    "    'pagevalues'\n",
    "    # 'administrative',\n",
    "    # 'informational',\n",
    "    # 'productrelated',\n",
    "]\n",
    "\n",
    "sc = StandardScaler()\n",
    "for col in num_vars:\n",
    "    X_data[col] = sc.fit_transform(X_data[[col]])\n",
    "X_data_scaled=X_data.copy()\n"
   ]
  },
  {
   "cell_type": "code",
   "execution_count": null,
   "metadata": {},
   "outputs": [],
   "source": [
    "# kNN imputation \n",
    "from sklearn.impute import KNNImputer\n",
    "imputer=KNNImputer()\n",
    "imputer.fit(X_data_scaled)\n",
    "X_data_scaled=imputer.transform(X_data_scaled)\n",
    "# X_data_scaled=X_data.copy()"
   ]
  },
  {
   "cell_type": "code",
   "execution_count": null,
   "metadata": {
    "colab": {
     "base_uri": "https://localhost:8080/"
    },
    "id": "2FeFhSH_W0U0",
    "outputId": "35410eeb-ac64-4493-854b-2e1d92cd5c48"
   },
   "outputs": [],
   "source": [
    "# train test split\n",
    "X_train,X_test,y_train,y_test=train_test_split(X_data_scaled,y_data,stratify=y_data,test_size=0.2)\n",
    "print(X_train.shape,X_test.shape)"
   ]
  },
  {
   "cell_type": "code",
   "execution_count": null,
   "metadata": {
    "colab": {
     "base_uri": "https://localhost:8080/"
    },
    "id": "Ow3IidRbioDx",
    "outputId": "3c1090d2-de6c-4a11-b5e5-913b58a0c76a"
   },
   "outputs": [],
   "source": [
    "print(y_test.value_counts(normalize=True))\n",
    "print(y_train.value_counts(normalize=True))"
   ]
  },
  {
   "cell_type": "code",
   "execution_count": null,
   "metadata": {
    "colab": {
     "base_uri": "https://localhost:8080/"
    },
    "id": "_JB6pU-OW0U0",
    "outputId": "e2168ace-7bcb-4625-95a7-dd25dc7625be"
   },
   "outputs": [],
   "source": [
    "log_reg=LogisticRegression()\n",
    "log_reg.fit(X_train,y_train)"
   ]
  },
  {
   "cell_type": "code",
   "execution_count": null,
   "metadata": {
    "colab": {
     "base_uri": "https://localhost:8080/",
     "height": 602
    },
    "id": "1H2GnUW8W0U1",
    "outputId": "dfbf2d05-dfe1-4447-d330-4253f08a0d24"
   },
   "outputs": [],
   "source": [
    "#predict the data and find accuracy \n",
    "y_pred=log_reg.predict(X_test)\n",
    "print(metrics.accuracy_score(y_pred,y_test))\n",
    "print(metrics.f1_score(y_pred,y_test))\n",
    "print(metrics.confusion_matrix(y_pred,y_test))\n",
    "metrics.plot_confusion_matrix(log_reg,X_test,y_test)"
   ]
  },
  {
   "cell_type": "code",
   "execution_count": null,
   "metadata": {
    "colab": {
     "base_uri": "https://localhost:8080/"
    },
    "id": "nzyHtdx5W0U1",
    "outputId": "fd71030e-97bc-48d8-c27b-96699622ad2d"
   },
   "outputs": [],
   "source": [
    "# log_reg_cv=LogisticRegressionCV(cv=10,random_state=0,solver='sag')\n",
    "# log_reg_cv.fit(X_train,y_train)"
   ]
  },
  {
   "cell_type": "code",
   "execution_count": null,
   "metadata": {
    "colab": {
     "base_uri": "https://localhost:8080/"
    },
    "id": "1wy1NVGhW0U1",
    "outputId": "da974ab3-4647-4fb6-da92-64f07765983d"
   },
   "outputs": [],
   "source": [
    "# #predict the data and find accuracy \n",
    "y_pred=log_reg.predict(X_test)\n",
    "print(metrics.accuracy_score(y_pred,y_test))\n",
    "print(metrics.f1_score(y_pred,y_test))"
   ]
  },
  {
   "cell_type": "markdown",
   "metadata": {
    "id": "ZfQk4ZGnW0U1"
   },
   "source": [
    "## Fitting a decision tree classifier"
   ]
  },
  {
   "cell_type": "code",
   "execution_count": null,
   "metadata": {
    "id": "mxp4WwJ_W0U1"
   },
   "outputs": [],
   "source": [
    "decision_tree=DecisionTreeClassifier(max_depth=6)"
   ]
  },
  {
   "cell_type": "code",
   "execution_count": null,
   "metadata": {
    "colab": {
     "base_uri": "https://localhost:8080/"
    },
    "id": "CPLQlY18W0U1",
    "outputId": "a2f56e31-f4b1-4b39-e90e-bdfff97fc29e"
   },
   "outputs": [],
   "source": [
    "decision_tree.fit(X_train,y_train)"
   ]
  },
  {
   "cell_type": "code",
   "execution_count": null,
   "metadata": {
    "colab": {
     "base_uri": "https://localhost:8080/",
     "height": 602
    },
    "id": "Pj7wnxUxW0U1",
    "outputId": "243d2cc7-49df-4166-d84d-95585f490b2a"
   },
   "outputs": [],
   "source": [
    "#predict the data and find accuracy \n",
    "y_pred=decision_tree.predict(X_test)\n",
    "print(metrics.accuracy_score(y_pred,y_test))\n",
    "print(metrics.f1_score(y_pred,y_test))\n",
    "print(metrics.confusion_matrix(y_pred,y_test))\n",
    "metrics.plot_confusion_matrix(log_reg,X_test,y_test)"
   ]
  },
  {
   "cell_type": "markdown",
   "metadata": {
    "id": "SF-w9Ds8W0U1"
   },
   "source": [
    "### Using grid search CV"
   ]
  },
  {
   "cell_type": "code",
   "execution_count": null,
   "metadata": {
    "colab": {
     "base_uri": "https://localhost:8080/"
    },
    "id": "hJdwA8vZW0U1",
    "outputId": "28db701a-0aa5-4d27-e3d9-2f32361c53db"
   },
   "outputs": [],
   "source": [
    "parameters={'max_depth':[5,6,7,8,9,10]}\n",
    "tree_clf=DecisionTreeClassifier(criterion='gini')\n",
    "tree_cv=GridSearchCV(tree_clf,parameters)\n",
    "tree_cv.fit(X_train,y_train)\n"
   ]
  },
  {
   "cell_type": "code",
   "execution_count": null,
   "metadata": {
    "colab": {
     "base_uri": "https://localhost:8080/",
     "height": 602
    },
    "id": "ZaEXiFoSW0U1",
    "outputId": "d6894056-19f8-445f-cf8b-fd779d8c5287"
   },
   "outputs": [],
   "source": [
    "#predict the data and find accuracy \n",
    "y_pred=tree_cv.predict(X_test)\n",
    "print(metrics.accuracy_score(y_pred,y_test))\n",
    "print(metrics.f1_score(y_pred,y_test))\n",
    "print(metrics.confusion_matrix(y_pred,y_test))\n",
    "metrics.plot_confusion_matrix(tree_cv,X_test,y_test)\n",
    "print(tree_cv.best_estimator_)"
   ]
  },
  {
   "cell_type": "code",
   "execution_count": null,
   "metadata": {
    "id": "Z_YaakZpW0U2"
   },
   "outputs": [],
   "source": []
  },
  {
   "cell_type": "markdown",
   "metadata": {
    "id": "1Ul9J1LmZQH5"
   },
   "source": [
    "## SVM implementation "
   ]
  },
  {
   "cell_type": "code",
   "execution_count": null,
   "metadata": {
    "colab": {
     "base_uri": "https://localhost:8080/",
     "height": 602
    },
    "id": "ctWCX9YuZWbe",
    "outputId": "9a50d615-6a04-46ba-ff11-24d0953f7b31"
   },
   "outputs": [],
   "source": [
    "parameters = {'kernel':('linear', 'rbf'), 'C':[1, 10]}\n",
    "svc=SVC()\n",
    "# clf=GridSearchCV(svc,parameters)\n",
    "clf=SVC()\n",
    "clf.fit(X_train,y_train)\n",
    "# predict the data and find accuracy \n",
    "y_pred=clf.predict(X_test)\n",
    "print(metrics.accuracy_score(y_pred,y_test))\n",
    "print(metrics.f1_score(y_pred,y_test))\n",
    "print(metrics.confusion_matrix(y_pred,y_test))\n",
    "metrics.plot_confusion_matrix(clf,X_test,y_test)\n",
    "\n"
   ]
  },
  {
   "cell_type": "code",
   "execution_count": null,
   "metadata": {},
   "outputs": [],
   "source": [
    "y_train_pred=log_reg.predict(X_train)\n",
    "print(\"Training score for logistics regression:{}\".format(metrics.accuracy_score(y_train_pred,y_train)))\n",
    "y_train_pred=tree_cv.predict(X_train)\n",
    "print(\"Training score for decision tree regression:{}\".format(metrics.accuracy_score(y_train_pred,y_train)))\n",
    "# y_train_pred=clf.predict(X_train)\n",
    "# print(metrics.accuracy_score(y_train_pred,y_train))\n",
    "\n",
    "y_test_pred=log_reg.predict(X_test)\n",
    "print(\"validation score for logistics regression:{}\".format(metrics.accuracy_score(y_test_pred,y_test)))\n",
    "y_test_pred=tree_cv.predict(X_test)\n",
    "print(\"validation score for decision tree  regression:{}\".format(metrics.accuracy_score(y_test_pred,y_test)))\n",
    "# y_test_pred=clf.predict(X_test)\n",
    "# print(metrics.accuracy_score(y_test_pred,y_test))\n"
   ]
  },
  {
   "cell_type": "markdown",
   "metadata": {
    "id": "MWa9nx7Wl882"
   },
   "source": [
    "## Prediction on test dataset"
   ]
  },
  {
   "cell_type": "code",
   "execution_count": null,
   "metadata": {
    "id": "JQHf3zXBl8Vi"
   },
   "outputs": [],
   "source": [
    "#!wget https://raw.githubusercontent.com/saumya221/image_viewer_pyqt5/main/ecommerce_test.csv"
   ]
  },
  {
   "cell_type": "code",
   "execution_count": null,
   "metadata": {
    "id": "nq8q5JRGmcRR"
   },
   "outputs": [],
   "source": [
    "test_data=pd.read_csv(\"ecommerce_test.csv\")\n"
   ]
  },
  {
   "cell_type": "code",
   "execution_count": null,
   "metadata": {
    "colab": {
     "base_uri": "https://localhost:8080/"
    },
    "id": "ehTUUq1-mnZA",
    "outputId": "c9b35d3b-7e5f-4101-cc17-070c56b4bb34"
   },
   "outputs": [],
   "source": [
    "test_data.info()"
   ]
  },
  {
   "cell_type": "code",
   "execution_count": null,
   "metadata": {},
   "outputs": [],
   "source": [
    "test_data[\"operatingsystems\"] = test_data[\"operatingsystems\"].replace(\"*\",test_data[\"operatingsystems\"].mode()[0])\n",
    "test_data[\"browser\"] = test_data[\"browser\"].replace(\"*\",test_data[\"browser\"].mode()[0])\n",
    "test_data[\"traffictype\"] = test_data[\"traffictype\"].replace(\"*\",test_data[\"traffictype\"].mode()[0])"
   ]
  },
  {
   "cell_type": "code",
   "execution_count": null,
   "metadata": {
    "id": "vUM7cgffmovj"
   },
   "outputs": [],
   "source": [
    "session_ids=test_data.session_id\n",
    "test_data.drop('session_id',axis=1,inplace=True)"
   ]
  },
  {
   "cell_type": "code",
   "execution_count": null,
   "metadata": {
    "colab": {
     "base_uri": "https://localhost:8080/"
    },
    "id": "e1Pgm3N2m25p",
    "outputId": "30a4706d-2553-48f3-8890-1766ae2889fe"
   },
   "outputs": [],
   "source": [
    "test_data.info()"
   ]
  },
  {
   "cell_type": "code",
   "execution_count": null,
   "metadata": {
    "colab": {
     "base_uri": "https://localhost:8080/"
    },
    "id": "jZvz9_4qm9TR",
    "outputId": "39ac5d14-aa40-4923-fc39-a600094e4ee2"
   },
   "outputs": [],
   "source": [
    "test_data.drop(columns=['bouncerates','traffictype'],inplace=True)\n",
    "# test_data=pd.get_dummies(test_data, columns=['operatingsystems','browser','region','month','visitortype'])\n",
    "test_data = pd.get_dummies(data = test_data, columns=['month', 'visitortype'], drop_first=True)\n",
    "test_data.shape"
   ]
  },
  {
   "cell_type": "code",
   "execution_count": null,
   "metadata": {
    "id": "-VLlW2ynnJyS"
   },
   "outputs": [],
   "source": [
    "# scale the dataset for better fitting\n",
    "# scaler=StandardScaler()\n",
    "# scaler.fit(test_data)\n",
    "# test_data_scaled=scaler.transform(test_data)\n",
    "num_vars = [\n",
    "    'administrative_duration',\n",
    "    'informational_duration',\n",
    "    'productrelated_duration',\n",
    "    'exitrates',\n",
    "    'pagevalues'\n",
    "    # 'administrative',\n",
    "    # 'informational',\n",
    "    # 'productrelated',\n",
    "]\n",
    "\n",
    "sc = StandardScaler()\n",
    "for col in num_vars:\n",
    "    test_data[col] = sc.fit_transform(test_data[[col]])\n"
   ]
  },
  {
   "cell_type": "code",
   "execution_count": null,
   "metadata": {},
   "outputs": [],
   "source": [
    "test_data_scaled=test_data.copy()\n",
    "imputer=KNNImputer()\n",
    "imputer.fit(test_data_scaled)\n",
    "test_data_scaled=imputer.transform(test_data_scaled)"
   ]
  },
  {
   "cell_type": "markdown",
   "metadata": {
    "id": "zZzTBLLunnnY"
   },
   "source": [
    "## Use the decision tree obtained from grid search and predict the data"
   ]
  },
  {
   "cell_type": "code",
   "execution_count": null,
   "metadata": {
    "colab": {
     "base_uri": "https://localhost:8080/"
    },
    "id": "tFvXTmGrnYFt",
    "outputId": "1abb7c72-90cd-4322-c39b-e1a6cf7b6476"
   },
   "outputs": [],
   "source": [
    "y_pred=tree_cv.predict(test_data_scaled)\n",
    "print(y_pred)\n",
    "final_output=pd.DataFrame()\n",
    "final_output[\"session_id\"]=session_ids\n",
    "final_output[\"revenue\"]=y_pred\n",
    "final_output.revenue.value_counts(normalize=True)"
   ]
  },
  {
   "cell_type": "code",
   "execution_count": null,
   "metadata": {
    "colab": {
     "base_uri": "https://localhost:8080/"
    },
    "id": "LANvwd9-nz2P",
    "outputId": "87b750b3-4f2a-4c9d-ea7b-c80d31d1bfce"
   },
   "outputs": [],
   "source": [
    "# y_pred=clf.predict(test_data_scaled)\n",
    "# print(y_pred)\n",
    "# final_output=pd.DataFrame()\n",
    "# final_output[\"session_id\"]=session_ids\n",
    "# final_output[\"revenue\"]=y_pred\n",
    "# final_output.revenue.value_counts(normalize=True)"
   ]
  },
  {
   "cell_type": "code",
   "execution_count": null,
   "metadata": {
    "colab": {
     "base_uri": "https://localhost:8080/"
    },
    "id": "vWZcBZNtn2vw",
    "outputId": "61e83ecf-f147-4bbb-bebf-0efe3d73b529"
   },
   "outputs": [],
   "source": [
    "y_pred=log_reg.predict(test_data_scaled)\n",
    "print(y_pred)\n",
    "final_output=pd.DataFrame()\n",
    "final_output[\"session_id\"]=session_ids\n",
    "final_output[\"revenue\"]=y_pred\n",
    "final_output.revenue.value_counts(normalize=True)"
   ]
  },
  {
   "cell_type": "code",
   "execution_count": null,
   "metadata": {
    "colab": {
     "base_uri": "https://localhost:8080/"
    },
    "id": "vP6MxRnF3RmY",
    "outputId": "63a34318-a332-4e9c-f870-552b8eb5c6c3"
   },
   "outputs": [],
   "source": [
    "y_pred=decision_tree.predict(test_data_scaled)\n",
    "print(y_pred)\n",
    "final_output=pd.DataFrame()\n",
    "final_output[\"session_id\"]=session_ids\n",
    "final_output[\"revenue\"]=y_pred\n",
    "final_output.revenue.value_counts(normalize=True)"
   ]
  },
  {
   "cell_type": "code",
   "execution_count": null,
   "metadata": {
    "id": "ty0YLyy4oeeg"
   },
   "outputs": [],
   "source": [
    "final_output.to_csv(\"submission_mark6.csv\",index=False)"
   ]
  },
  {
   "cell_type": "code",
   "execution_count": null,
   "metadata": {
    "id": "jrYuf1Kfr7GY"
   },
   "outputs": [],
   "source": []
  }
 ],
 "metadata": {
  "colab": {
   "provenance": []
  },
  "gpuClass": "standard",
  "kernelspec": {
   "display_name": "Python 3 (ipykernel)",
   "language": "python",
   "name": "python3"
  },
  "language_info": {
   "codemirror_mode": {
    "name": "ipython",
    "version": 3
   },
   "file_extension": ".py",
   "mimetype": "text/x-python",
   "name": "python",
   "nbconvert_exporter": "python",
   "pygments_lexer": "ipython3",
   "version": "3.10.6"
  }
 },
 "nbformat": 4,
 "nbformat_minor": 1
}
